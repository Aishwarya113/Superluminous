{
 "cells": [
  {
   "cell_type": "code",
   "execution_count": 1,
   "metadata": {},
   "outputs": [],
   "source": [
    "import pickle\n",
    "import numpy as np\n",
    "from astropy.table import Table\n",
    "from astropy.io import ascii\n",
    "import os\n",
    "import requests\n",
    "import json\n",
    "from datetime import datetime\n",
    "from astropy.table import Table\n",
    "from astropy.time import Time\n",
    "from astropy.cosmology import FlatLambdaCDM\n",
    "import astropy.units as u\n",
    "from astropy import constants as const\n",
    "import matplotlib.pyplot as plt\n",
    "import matplotlib\n",
    "import getpass\n",
    "import warnings\n",
    "import pandas\n",
    "import time\n",
    "import subprocess\n",
    "import logging\n",
    "import webbrowser\n",
    "import glob\n",
    "from datetime import *\n",
    "import scipy.signal\n",
    "np.random.seed(1)"
   ]
  },
  {
   "cell_type": "code",
   "execution_count": 3,
   "metadata": {},
   "outputs": [
    {
     "name": "stderr",
     "output_type": "stream",
     "text": [
      "//anaconda3/lib/python3.7/site-packages/ipykernel_launcher.py:3: MatplotlibDeprecationWarning: \n",
      "The text.latex.unicode rcparam was deprecated in Matplotlib 3.0 and will be removed in 3.2.\n",
      "  This is separate from the ipykernel package so we can avoid doing imports until\n"
     ]
    }
   ],
   "source": [
    "from os import listdir\n",
    "matplotlib.rcParams['text.usetex'] = True\n",
    "matplotlib.rcParams['text.latex.unicode'] = True"
   ]
  },
  {
   "cell_type": "code",
   "execution_count": 4,
   "metadata": {},
   "outputs": [],
   "source": [
    "targets = [\"ZTF18abszecm_20181213_P200_v3.ascii\", \"ZTF18abszecm_20190702_Keck1_v1.ascii\"]\n",
    "\n",
    "More_targets= [\"ZTF18acenqto\",\"ZTF18acxgqxq\",\"ZTF19aarphwc\",\"ZTF19aawsqsc\",\"ZTF19aavouyw\",\"ZTF19aaqrime\",\"ZTF19abaeyqw\",\"ZTF18aaisyyp\",\"ZTF18aajqcue\",\"ZTF18aapgrxo\",\"ZTF18aavrmcg\",\"ZTF18aazgrfl\",\n",
    "\"ZTF18abjwagv\",\"ZTF18ablwafp\",\"ZTF18abmasep\",\"ZTF18abrzcbp\",\"ZTF18abshezu\",\"ZTF18abvgjyl\",\"ZTF18acapyww\",\n",
    "\"ZTF18achdidy\",\"ZTF18acqyvag\",\"ZTF18acslpji\",\"ZTF18acyxnyw\",\"ZTF19aacxrab\",\"ZTF19aajwogx\",\"ZTF19aaknqmp\",\n",
    "\"ZTF19aamhhiz\",\"ZTF19aanesgt\",\"ZTF19aantokv\",\"ZTF19aaohuwc\",\"ZTF19aapaeye\",\"ZTF19aaruixj\",\"ZTF19aasdvfr\",\n",
    "\"ZTF19aauiref\",\"ZTF19aayclnm\",\"ZTF19abdlzyq\",\"ZTF19abfvnns\"]"
   ]
  },
  {
   "cell_type": "code",
   "execution_count": 5,
   "metadata": {},
   "outputs": [],
   "source": [
    "def fetch_ZTF_spectrum(target_id, user, passw, specfilter=False, program_idx=0):\n",
    "    \"\"\"Returns list of all available spectra(data url paths) for a given ZTF target.\n",
    "\n",
    "    Input\n",
    "    ------\n",
    "    target_id: ZTF name of source (str)\n",
    "    user: Username for login cridentials for GROWTH Marshall (str)\n",
    "    passw: Password for login cridentials for GROWTH Marshall (str)\n",
    "    specfilter: True; Choose a single spectrum based of of the peak magnitude (PM) (+7 days after PM or -4 before PM) (bool)\n",
    "    specfilter: False; Choose multiple spectra uploaded in the Marshall (bool)\n",
    "\n",
    "    Output\n",
    "    ------\n",
    "    list_spec: List of download paths (from marshall) in format: spectra/data/ZTFid_date_inst_vn.ascii (list)\n",
    "    \"\"\"\n",
    "\n",
    "    programidx = program_idx # CLU:0\n",
    "    r = requests.post('http://skipper.caltech.edu:8080/cgi-bin/growth/list_program_sources.cgi', auth=(user, passw), data = {'programidx': str(programidx)})\n",
    "    sources_clu = json.loads(r.text) # preliminary information on CLU objects\n",
    "    list_spec, sd, dat_url, dat_inst = [], [], [], []\n",
    "\n",
    "    for i in enumerate(sources_clu):\n",
    "        name = i[1]['name'] # name generated from marshall\n",
    "\n",
    "        if name == target_id: # if you find the ZTF_id you have queried\n",
    "            marsh_info = i[1] # fetch marshall information!\n",
    "            s = requests.post('http://skipper.caltech.edu:8080/cgi-bin/growth/source_summary.cgi', auth=(user, passw), data = {'sourceid': str(marsh_info['id'])})\n",
    "            sourceDict = json.loads(s.text)\n",
    "\n",
    "            # Spectral and Photometric information --\n",
    "            spec = sourceDict['uploaded_spectra'] # information on spectroscopy\n",
    "            photometry_info = sourceDict['uploaded_photometry'] # information on photometry\n",
    "\n",
    "            N_spec = len(spec) # number of available spectra! -- check for uniqueness? [NOTE!]\n",
    "            \n",
    "            for spectra_path in spec:\n",
    "                list_spec.append(str(spectra_path['datapath'])) # append datapaths...\n",
    "            return (list_spec)"
   ]
  },
  {
   "cell_type": "code",
   "execution_count": 6,
   "metadata": {},
   "outputs": [],
   "source": [
    "def download_spectra(data_path, target_id, date_dir_name, dtype='no_header'):\n",
    "    \"\"\"Downloads .ascii files from GROWTH Marshall for given ZTF object.\n",
    "\n",
    "    Input\n",
    "    -----\n",
    "    data_path: Download URL from GROWTH Marshall -- usually called from Fetch_ZTF_Spectrum (str)\n",
    "    target_id: ZTF name of source (str)\n",
    "    date_dir_name: daving date directory you will be storing the downloaded files (str)\n",
    "    dtype: data type you want for the ascii files. Usually no_header will not read the first row of the ascii file.\n",
    "\n",
    "    Output\n",
    "    ------\n",
    "    Creates /spectra and /summary directories and downloads ascii file data path given.\n",
    "\n",
    "    \"\"\"\n",
    "    # GROWTH Marshall url where data is available\n",
    "    download_url = \"http://skipper.caltech.edu:8080/growth-data/\"\n",
    "\n",
    "    # Complete path to url downloading data\n",
    "    data_path_mod = data_path.split(\"/\")[2].split('.')[0] #ZTFid_date_inst_vn\n",
    "\n",
    "    try:\n",
    "        # Stich final directories to the directory containing the data\n",
    "        final_path_to_data = download_url + \"spectra/data/\" + data_path_mod + \".ascii\"\n",
    "        print (\"this is the final path --> \")\n",
    "        print (final_path_to_data)\n",
    "    except:\n",
    "        print (\"This file you have requested is not available!\")\n",
    "        return (None)\n",
    "\n",
    "    # Make a new directory with the ZTF name\n",
    "    bash1 = subprocess.run(\"mkdir data/%s/%s\"%(date_dir_name, target_id), shell=True)\n",
    "    bash2 = subprocess.run(\"mkdir data/%s/%s/spectra\"%(date_dir_name, target_id), shell=True) # create the spectra dir in the ZTF target dir\n",
    "    bash3 = subprocess.run(\"mkdir data/%s/%s/summary\"%(date_dir_name, target_id), shell=True) # create the summary dir where we save summary SNID plots\n",
    "\n",
    "    # Fetch data from custom url\n",
    "    data = ascii.read(\"%s\"%final_path_to_data, format=dtype)\n",
    "    # clean from nan values\n",
    "    rmv_nan = np.where(np.isnan([data['col1'], data['col2']]))\n",
    "    data.remove_rows(rmv_nan[1]) # will remove NaN identified values!\n",
    "    min_lambda = min(data['col1']) # minimum wavelength\n",
    "    max_lambda = max(data['col1'])# maximum wavelength\n",
    "\n",
    "    if min_lambda>2500 and max_lambda<12000: # check that the downloaded ascii is within the optical range!\n",
    "        print (\"Looking in wavelength ranges: %s - %s\"%(min_lambda, max_lambda))\n",
    "        # Save to data path: ../n1/spectra\n",
    "        # Generally in this directory we will have: \".asii\", \".output\"\n",
    "        download_spectrum = ascii.write(data, \"data/%s/%s/spectra/%s.ascii\"%(date_dir_name, target_id, data_path_mod), format=dtype)\n",
    "        stored_spectrum = \"data/%s/%s/spectra/%s.ascii\"%(date_dir_name, target_id, data_path_mod)\n",
    "        return (stored_spectrum)\n",
    "    else:\n",
    "        return (False)"
   ]
  },
  {
   "cell_type": "code",
   "execution_count": 13,
   "metadata": {},
   "outputs": [
    {
     "name": "stdout",
     "output_type": "stream",
     "text": [
      "None\n"
     ]
    },
    {
     "ename": "TypeError",
     "evalue": "'NoneType' object is not iterable",
     "output_type": "error",
     "traceback": [
      "\u001b[0;31m---------------------------------------------------------------------------\u001b[0m",
      "\u001b[0;31mTypeError\u001b[0m                                 Traceback (most recent call last)",
      "\u001b[0;32m<ipython-input-13-45bdfa09294f>\u001b[0m in \u001b[0;36m<module>\u001b[0;34m\u001b[0m\n\u001b[1;32m     19\u001b[0m     \u001b[0mprint\u001b[0m \u001b[0;34m(\u001b[0m\u001b[0mspectra\u001b[0m\u001b[0;34m)\u001b[0m\u001b[0;34m\u001b[0m\u001b[0;34m\u001b[0m\u001b[0m\n\u001b[1;32m     20\u001b[0m \u001b[0;34m\u001b[0m\u001b[0m\n\u001b[0;32m---> 21\u001b[0;31m     \u001b[0;32mfor\u001b[0m \u001b[0mspec\u001b[0m \u001b[0;32min\u001b[0m \u001b[0mspectra\u001b[0m\u001b[0;34m:\u001b[0m\u001b[0;34m\u001b[0m\u001b[0;34m\u001b[0m\u001b[0m\n\u001b[0m\u001b[1;32m     22\u001b[0m         \u001b[0mspec_download\u001b[0m \u001b[0;34m=\u001b[0m \u001b[0mdownload_spectra\u001b[0m\u001b[0;34m(\u001b[0m\u001b[0mspec\u001b[0m\u001b[0;34m,\u001b[0m \u001b[0mtarget\u001b[0m\u001b[0;34m,\u001b[0m \u001b[0mdate_directory\u001b[0m\u001b[0;34m)\u001b[0m \u001b[0;31m# download all spectra to data path\u001b[0m\u001b[0;34m\u001b[0m\u001b[0;34m\u001b[0m\u001b[0m\n\u001b[1;32m     23\u001b[0m         \u001b[0mprint\u001b[0m \u001b[0;34m(\u001b[0m\u001b[0mspec_download\u001b[0m\u001b[0;34m)\u001b[0m\u001b[0;34m\u001b[0m\u001b[0;34m\u001b[0m\u001b[0m\n",
      "\u001b[0;31mTypeError\u001b[0m: 'NoneType' object is not iterable"
     ]
    }
   ],
   "source": [
    "user = \"AishwaryaD\"\n",
    "passw = \"bBrA@7592\"\n",
    "\n",
    "# Where will the data be stored from this python run? format: month/day/year (i.e 07022019)\n",
    "date_directory= \"trial\"#input(\"Create a new date-directory (i.e 07202019): \")\n",
    "mkdir_date_dir = os.system(\"mkdir data/%s\"%date_directory) # make a new directory where we will store the datapath\n",
    "\n",
    "\n",
    "program_index = \"10\"#input(\"Select program [1,2]: \")\n",
    "\n",
    "# Single source posting and SNID program\n",
    "#if float(program_index)==1:\n",
    "    #print (\"-------------\")\n",
    "    #print (\"You have selected single source SNID & Commenting!\")\n",
    "\n",
    "for target in targets:\n",
    "    \n",
    "    spectra = fetch_ZTF_spectrum(target, user, passw, program_idx=10)\n",
    "    print (spectra)\n",
    "    \n",
    "    for spec in spectra:\n",
    "        spec_download = download_spectra(spec, target, date_directory) # download all spectra to data path\n",
    "        print (spec_download)\n",
    "        SNID_spectra(spec_download, ZTF_target, date_directory, user, passw) # Run SNID\n",
    "\n",
    "    out_files_path = glob.glob(\"data/%s/%s/spectra/*.ascii\"%(date_directory, ZTF_target))"
   ]
  },
  {
   "cell_type": "code",
   "execution_count": null,
   "metadata": {},
   "outputs": [],
   "source": []
  },
  {
   "cell_type": "code",
   "execution_count": null,
   "metadata": {},
   "outputs": [],
   "source": []
  },
  {
   "cell_type": "code",
   "execution_count": 4,
   "metadata": {},
   "outputs": [
    {
     "name": "stdout",
     "output_type": "stream",
     "text": [
      "ZTF18abszecm_20181213_P200_v3.ascii\n",
      "The mean you're selecting: 3.087832877300614e-17\n",
      "ZTF18abszecm_20190702_Keck1_v1.ascii\n",
      "The mean you're selecting: 9.566415997652581e-18\n"
     ]
    }
   ],
   "source": [
    "directory = glob.glob(\"*.ascii\")\n",
    "\n",
    "plotx = []\n",
    "ploty = []\n",
    "\n",
    "label = [[],[]]\n",
    "text = []\n",
    "\n",
    "for t in targets:\n",
    "\n",
    "    for d in directory:\n",
    "\n",
    "        #if d.split(\"_\")[0] == t:\n",
    "        if d == t:\n",
    "            print (d)\n",
    "            label = (d.split(\"_\")[0] +\" \"+ d.split(\"_\")[1])\n",
    "            text.append(label)\n",
    "            \n",
    "            data = ascii.read(d)\n",
    "            data_l, data_flux = data['col1'], data['col2'] # first define as variables\n",
    " \n",
    "            data_l, data_flux = data_l[~np.isnan(data_l)], data_flux[~np.isnan(data_l)] # update the variables with \n",
    "            data_l, data_flux = data_l[~np.isnan(data_flux)], data_flux[~np.isnan(data_flux)]\n",
    "            \n",
    "            lam_cut = np.where((data_l>6000) & (data_l<7000))\n",
    "            \n",
    "            print (\"The mean you're selecting: %s\"%np.mean(data_flux[lam_cut]))\n",
    "            mean = np.mean(data_flux[lam_cut])\n",
    "            \n",
    "            plotx.append(data_l)\n",
    "            ploty.append(data_flux/mean)\n",
    "           \n",
    "            #idx  = (data[\"col1\"]>6000) & (data[\"col1\"]<7000)\n",
    "            #mean = data[\"col2\"][idx].mean()\n",
    "            #print (mean)"
   ]
  },
  {
   "cell_type": "code",
   "execution_count": 15,
   "metadata": {},
   "outputs": [
    {
     "data": {
      "image/png": "[encoded data removed]",
      "text/plain": [
       "<Figure size 432x288 with 1 Axes>"
      ]
     },
     "metadata": {
      "needs_background": "light"
     },
     "output_type": "display_data"
    }
   ],
   "source": [
    "fig,ax = plt.subplots(nrows=1,ncols=1)\n",
    "ax.set_xlim(3400,9200)\n",
    "ax.set_ylim(-2, 2)\n",
    "#plt.yscale('log')\n",
    "\n",
    "l = 0\n",
    "count = 0\n",
    "\n",
    "for k in zip(plotx,ploty):\n",
    "    yhat = scipy.signal.savgol_filter(k[1], 31, 3)\n",
    "    \n",
    "    # Plotting the spectrum name and date for every spectrum\n",
    "    \n",
    "    y_temp = k[1] + l \n",
    "    text_pos_y = np.median(y_temp)\n",
    "    #text_pos_y = y_temp[plotx[9500]]\n",
    "    ax.text(9600, text_pos_y, text[count], size=12)\n",
    "    \n",
    "    count = count+1\n",
    "    ax.plot(k[0],k[1]+l,  color = '0.7')\n",
    "    \n",
    "    ax.plot(k[0], yhat+l, color='red')\n",
    "    ax.set_xlim(3400, 9500)\n",
    "    l += -2\n",
    "    \n",
    "plt.show()\n"
   ]
  },
  {
   "cell_type": "code",
   "execution_count": null,
   "metadata": {},
   "outputs": [],
   "source": []
  },
  {
   "cell_type": "code",
   "execution_count": null,
   "metadata": {},
   "outputs": [],
   "source": []
  },
  {
   "cell_type": "code",
   "execution_count": null,
   "metadata": {},
   "outputs": [],
   "source": []
  },
  {
   "cell_type": "code",
   "execution_count": null,
   "metadata": {},
   "outputs": [],
   "source": []
  },
  {
   "cell_type": "code",
   "execution_count": null,
   "metadata": {},
   "outputs": [],
   "source": []
  },
  {
   "cell_type": "code",
   "execution_count": null,
   "metadata": {},
   "outputs": [],
   "source": []
  },
  {
   "cell_type": "code",
   "execution_count": null,
   "metadata": {},
   "outputs": [],
   "source": []
  }
 ],
 "metadata": {
  "kernelspec": {
   "display_name": "Python 3",
   "language": "python",
   "name": "python3"
  },
  "language_info": {
   "codemirror_mode": {
    "name": "ipython",
    "version": 3
   },
   "file_extension": ".py",
   "mimetype": "text/x-python",
   "name": "python",
   "nbconvert_exporter": "python",
   "pygments_lexer": "ipython3",
   "version": "3.7.3"
  }
 },
 "nbformat": 4,
 "nbformat_minor": 2
}
